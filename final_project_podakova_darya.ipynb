{
 "cells": [
  {
   "cell_type": "code",
   "execution_count": 33,
   "metadata": {},
   "outputs": [],
   "source": [
    "# %load_ext pycodestyle_magic"
   ]
  },
  {
   "cell_type": "code",
   "execution_count": 34,
   "metadata": {},
   "outputs": [],
   "source": [
    "# %flake8_on --max_line_length 119"
   ]
  },
  {
   "cell_type": "code",
   "execution_count": 35,
   "metadata": {},
   "outputs": [],
   "source": [
    "# %pycodestyle_on"
   ]
  },
  {
   "cell_type": "code",
   "execution_count": 65,
   "metadata": {
    "scrolled": true
   },
   "outputs": [],
   "source": [
    "import pandas as pd\n",
    "import seaborn as sns\n",
    "import numpy as np\n",
    "import matplotlib.pyplot as plt\n",
    "import scipy.stats as stats\n",
    "%matplotlib inline"
   ]
  },
  {
   "cell_type": "markdown",
   "metadata": {},
   "source": []
  },
  {
   "cell_type": "markdown",
   "metadata": {},
   "source": [
    "## Задание 1\n",
    "\n",
    "***Retention – один из самых важных показателей в компании. Ваша задача – написать функцию, которая будет считать retention игроков (по дням от даты регистрации игрока). Данные лежат в папке shared  Функция должна быть написана на python. В ходе решения можно тестировать работу функции как на полном датасете, так и на части (сэмпле) данных.***"
   ]
  },
  {
   "cell_type": "code",
   "execution_count": 37,
   "metadata": {},
   "outputs": [],
   "source": [
    "regtime = pd.read_csv('/home/jupyter-d.podakova-15/shared/problem1-reg_data.csv', sep=';')"
   ]
  },
  {
   "cell_type": "code",
   "execution_count": 38,
   "metadata": {},
   "outputs": [],
   "source": [
    "signtime = pd.read_csv('/home/jupyter-d.podakova-15/shared/problem1-auth_data.csv', sep=';')"
   ]
  },
  {
   "cell_type": "code",
   "execution_count": 39,
   "metadata": {},
   "outputs": [],
   "source": [
    "# создаю функцию для полной проверки данных\n",
    "def describing(x):\n",
    "    divider = \"---\"\n",
    "    print(\"Строк: {},колонок: {}\".format(x.shape[0], x.shape[1]))\n",
    "    print(\"\\n {} \\n\".format((divider * 30)))\n",
    "    print(\"Типы колонок \\n\\n\", x.dtypes)\n",
    "    print(\"\\n {} \\n\".format((divider * 30)))\n",
    "    print(\"Описание данных \\n\\n\", x.describe().round(2))\n",
    "    print(\"\\n {} \\n\".format((divider * 30)))\n",
    "    print(\"Проверка на пропуски \\n\\n\", x.isna().sum())\n",
    "    print(\"\\n {} \\n\".format((divider * 30)))\n",
    "    return"
   ]
  },
  {
   "cell_type": "code",
   "execution_count": 40,
   "metadata": {},
   "outputs": [],
   "source": [
    "# ретеншен рассчитывается по  c месячным интервалом\n",
    "def retention_month(df, since, until):\n",
    "    df['reg_ts_month'] = df['reg_ts'].dt.to_period('M')\n",
    "    df['month_ingame'] = ((df['auth_ts'] - df['reg_ts']) / np.timedelta64(1, 'M')) + 1\n",
    "    df['month_ingame'] = df['month_ingame'].astype(int)\n",
    "    count_month = df.groupby(['month_ingame', 'reg_ts_month'], as_index=False)\\\n",
    "        .agg({'uid': 'nunique'})\\\n",
    "        .pivot(index='reg_ts_month', columns='month_ingame', values='uid')[since:until]\n",
    "    base_month = count_month[1]\n",
    "    retention_month = count_month.divide(base_month, axis=0).round(3)\n",
    "    plt.figure(figsize=(18, 12))\n",
    "    plt.title('Retention по месячным когортам')\n",
    "    ax = sns.heatmap(data=retention_month.iloc[:, 0:12],\n",
    "                     cmap='RdYlGn',\n",
    "                     annot=True,\n",
    "                     fmt='.2f')\n",
    "    ax.set_yticklabels(retention_month.index)\n",
    "    fig = ax.get_figure()\n",
    "    fig.savefig(\"Retention.png\")\n",
    "    return count_month.iloc[:, 0:12]\n",
    "    fig.savefig(\"Retention.png\")\n",
    "    return count_month.iloc[:, 0:12]"
   ]
  },
  {
   "cell_type": "code",
   "execution_count": 41,
   "metadata": {
    "scrolled": true
   },
   "outputs": [
    {
     "data": {
      "text/html": [
       "<div>\n",
       "<style scoped>\n",
       "    .dataframe tbody tr th:only-of-type {\n",
       "        vertical-align: middle;\n",
       "    }\n",
       "\n",
       "    .dataframe tbody tr th {\n",
       "        vertical-align: top;\n",
       "    }\n",
       "\n",
       "    .dataframe thead th {\n",
       "        text-align: right;\n",
       "    }\n",
       "</style>\n",
       "<table border=\"1\" class=\"dataframe\">\n",
       "  <thead>\n",
       "    <tr style=\"text-align: right;\">\n",
       "      <th></th>\n",
       "      <th>reg_ts</th>\n",
       "      <th>uid</th>\n",
       "    </tr>\n",
       "  </thead>\n",
       "  <tbody>\n",
       "    <tr>\n",
       "      <th>0</th>\n",
       "      <td>911382223</td>\n",
       "      <td>1</td>\n",
       "    </tr>\n",
       "    <tr>\n",
       "      <th>1</th>\n",
       "      <td>932683089</td>\n",
       "      <td>2</td>\n",
       "    </tr>\n",
       "    <tr>\n",
       "      <th>2</th>\n",
       "      <td>947802447</td>\n",
       "      <td>3</td>\n",
       "    </tr>\n",
       "    <tr>\n",
       "      <th>3</th>\n",
       "      <td>959523541</td>\n",
       "      <td>4</td>\n",
       "    </tr>\n",
       "    <tr>\n",
       "      <th>4</th>\n",
       "      <td>969103313</td>\n",
       "      <td>5</td>\n",
       "    </tr>\n",
       "  </tbody>\n",
       "</table>\n",
       "</div>"
      ],
      "text/plain": [
       "      reg_ts  uid\n",
       "0  911382223    1\n",
       "1  932683089    2\n",
       "2  947802447    3\n",
       "3  959523541    4\n",
       "4  969103313    5"
      ]
     },
     "execution_count": 41,
     "metadata": {},
     "output_type": "execute_result"
    }
   ],
   "source": [
    "# описываю данные, понимаю,что время в unix формате,возврашаюсь в строку импортов и импортирую нужную библиотеку.\n",
    "#  я еще испытаю функцию ниже,а тут выведу head\n",
    "regtime.head()"
   ]
  },
  {
   "cell_type": "code",
   "execution_count": 42,
   "metadata": {},
   "outputs": [],
   "source": [
    "# переводим в дни дату, в недели, можно и в месяца с таким количеством данных\n",
    "signtime[['auth_ts']] = signtime[['auth_ts']].apply(pd.to_datetime, unit=\"s\")\n",
    "regtime[['reg_ts']] = regtime[['reg_ts']].apply(pd.to_datetime, unit=\"s\")"
   ]
  },
  {
   "cell_type": "code",
   "execution_count": 43,
   "metadata": {},
   "outputs": [],
   "source": [
    "#  я решила выбрать лефт джоин, потому что было предположение,\n",
    "# что возможно будут пропуски в дате авторизации и могут потеряться данные\n",
    "df = signtime.merge(regtime, how='left', on='uid')"
   ]
  },
  {
   "cell_type": "code",
   "execution_count": 44,
   "metadata": {},
   "outputs": [
    {
     "name": "stdout",
     "output_type": "stream",
     "text": [
      "Строк: 9601013,колонок: 3\n",
      "\n",
      " ------------------------------------------------------------------------------------------ \n",
      "\n",
      "Типы колонок \n",
      "\n",
      " auth_ts    datetime64[ns]\n",
      "uid                 int64\n",
      "reg_ts     datetime64[ns]\n",
      "dtype: object\n",
      "\n",
      " ------------------------------------------------------------------------------------------ \n",
      "\n",
      "Описание данных \n",
      "\n",
      "               uid\n",
      "count  9601013.00\n",
      "mean    334719.84\n",
      "std     283266.91\n",
      "min          1.00\n",
      "25%      95997.00\n",
      "50%     257921.00\n",
      "75%     519025.00\n",
      "max    1110622.00\n",
      "\n",
      " ------------------------------------------------------------------------------------------ \n",
      "\n",
      "Проверка на пропуски \n",
      "\n",
      " auth_ts    0\n",
      "uid        0\n",
      "reg_ts     0\n",
      "dtype: int64\n",
      "\n",
      " ------------------------------------------------------------------------------------------ \n",
      "\n"
     ]
    }
   ],
   "source": [
    "# вижу,что пропусков нет, можно сразу приступать к обработке данных\n",
    "describing(df)"
   ]
  },
  {
   "cell_type": "code",
   "execution_count": 45,
   "metadata": {
    "scrolled": false
   },
   "outputs": [
    {
     "data": {
      "text/html": [
       "<div>\n",
       "<style scoped>\n",
       "    .dataframe tbody tr th:only-of-type {\n",
       "        vertical-align: middle;\n",
       "    }\n",
       "\n",
       "    .dataframe tbody tr th {\n",
       "        vertical-align: top;\n",
       "    }\n",
       "\n",
       "    .dataframe thead th {\n",
       "        text-align: right;\n",
       "    }\n",
       "</style>\n",
       "<table border=\"1\" class=\"dataframe\">\n",
       "  <thead>\n",
       "    <tr style=\"text-align: right;\">\n",
       "      <th>month_ingame</th>\n",
       "      <th>1</th>\n",
       "      <th>2</th>\n",
       "      <th>3</th>\n",
       "      <th>4</th>\n",
       "      <th>5</th>\n",
       "      <th>6</th>\n",
       "      <th>7</th>\n",
       "      <th>8</th>\n",
       "      <th>9</th>\n",
       "      <th>10</th>\n",
       "      <th>11</th>\n",
       "      <th>12</th>\n",
       "    </tr>\n",
       "    <tr>\n",
       "      <th>reg_ts_month</th>\n",
       "      <th></th>\n",
       "      <th></th>\n",
       "      <th></th>\n",
       "      <th></th>\n",
       "      <th></th>\n",
       "      <th></th>\n",
       "      <th></th>\n",
       "      <th></th>\n",
       "      <th></th>\n",
       "      <th></th>\n",
       "      <th></th>\n",
       "      <th></th>\n",
       "    </tr>\n",
       "  </thead>\n",
       "  <tbody>\n",
       "    <tr>\n",
       "      <th>2019-09</th>\n",
       "      <td>26689.0</td>\n",
       "      <td>2757.0</td>\n",
       "      <td>1364.0</td>\n",
       "      <td>1364.0</td>\n",
       "      <td>1364.0</td>\n",
       "      <td>1364.0</td>\n",
       "      <td>1364.0</td>\n",
       "      <td>1364.0</td>\n",
       "      <td>1364.0</td>\n",
       "      <td>1364.0</td>\n",
       "      <td>1364.0</td>\n",
       "      <td>1364.0</td>\n",
       "    </tr>\n",
       "    <tr>\n",
       "      <th>2019-10</th>\n",
       "      <td>28998.0</td>\n",
       "      <td>2989.0</td>\n",
       "      <td>1475.0</td>\n",
       "      <td>1475.0</td>\n",
       "      <td>1475.0</td>\n",
       "      <td>1475.0</td>\n",
       "      <td>1475.0</td>\n",
       "      <td>1475.0</td>\n",
       "      <td>1475.0</td>\n",
       "      <td>1475.0</td>\n",
       "      <td>1475.0</td>\n",
       "      <td>974.0</td>\n",
       "    </tr>\n",
       "    <tr>\n",
       "      <th>2019-11</th>\n",
       "      <td>29505.0</td>\n",
       "      <td>3034.0</td>\n",
       "      <td>1433.0</td>\n",
       "      <td>1433.0</td>\n",
       "      <td>1433.0</td>\n",
       "      <td>1433.0</td>\n",
       "      <td>1433.0</td>\n",
       "      <td>1433.0</td>\n",
       "      <td>1433.0</td>\n",
       "      <td>1433.0</td>\n",
       "      <td>1010.0</td>\n",
       "      <td>NaN</td>\n",
       "    </tr>\n",
       "    <tr>\n",
       "      <th>2019-12</th>\n",
       "      <td>32057.0</td>\n",
       "      <td>3370.0</td>\n",
       "      <td>1640.0</td>\n",
       "      <td>1640.0</td>\n",
       "      <td>1640.0</td>\n",
       "      <td>1640.0</td>\n",
       "      <td>1640.0</td>\n",
       "      <td>1640.0</td>\n",
       "      <td>1640.0</td>\n",
       "      <td>1115.0</td>\n",
       "      <td>NaN</td>\n",
       "      <td>NaN</td>\n",
       "    </tr>\n",
       "    <tr>\n",
       "      <th>2020-01</th>\n",
       "      <td>33733.0</td>\n",
       "      <td>3402.0</td>\n",
       "      <td>1689.0</td>\n",
       "      <td>1689.0</td>\n",
       "      <td>1689.0</td>\n",
       "      <td>1689.0</td>\n",
       "      <td>1689.0</td>\n",
       "      <td>1689.0</td>\n",
       "      <td>1133.0</td>\n",
       "      <td>NaN</td>\n",
       "      <td>NaN</td>\n",
       "      <td>NaN</td>\n",
       "    </tr>\n",
       "    <tr>\n",
       "      <th>2020-02</th>\n",
       "      <td>33152.0</td>\n",
       "      <td>3350.0</td>\n",
       "      <td>1630.0</td>\n",
       "      <td>1630.0</td>\n",
       "      <td>1630.0</td>\n",
       "      <td>1630.0</td>\n",
       "      <td>1630.0</td>\n",
       "      <td>1121.0</td>\n",
       "      <td>NaN</td>\n",
       "      <td>NaN</td>\n",
       "      <td>NaN</td>\n",
       "      <td>NaN</td>\n",
       "    </tr>\n",
       "    <tr>\n",
       "      <th>2020-03</th>\n",
       "      <td>37231.0</td>\n",
       "      <td>3843.0</td>\n",
       "      <td>1907.0</td>\n",
       "      <td>1907.0</td>\n",
       "      <td>1907.0</td>\n",
       "      <td>1907.0</td>\n",
       "      <td>1335.0</td>\n",
       "      <td>NaN</td>\n",
       "      <td>NaN</td>\n",
       "      <td>NaN</td>\n",
       "      <td>NaN</td>\n",
       "      <td>NaN</td>\n",
       "    </tr>\n",
       "    <tr>\n",
       "      <th>2020-04</th>\n",
       "      <td>37884.0</td>\n",
       "      <td>3958.0</td>\n",
       "      <td>1937.0</td>\n",
       "      <td>1937.0</td>\n",
       "      <td>1937.0</td>\n",
       "      <td>1353.0</td>\n",
       "      <td>NaN</td>\n",
       "      <td>NaN</td>\n",
       "      <td>NaN</td>\n",
       "      <td>NaN</td>\n",
       "      <td>NaN</td>\n",
       "      <td>NaN</td>\n",
       "    </tr>\n",
       "    <tr>\n",
       "      <th>2020-05</th>\n",
       "      <td>41159.0</td>\n",
       "      <td>4357.0</td>\n",
       "      <td>2111.0</td>\n",
       "      <td>2111.0</td>\n",
       "      <td>1481.0</td>\n",
       "      <td>NaN</td>\n",
       "      <td>NaN</td>\n",
       "      <td>NaN</td>\n",
       "      <td>NaN</td>\n",
       "      <td>NaN</td>\n",
       "      <td>NaN</td>\n",
       "      <td>NaN</td>\n",
       "    </tr>\n",
       "    <tr>\n",
       "      <th>2020-06</th>\n",
       "      <td>41880.0</td>\n",
       "      <td>4304.0</td>\n",
       "      <td>2056.0</td>\n",
       "      <td>1381.0</td>\n",
       "      <td>NaN</td>\n",
       "      <td>NaN</td>\n",
       "      <td>NaN</td>\n",
       "      <td>NaN</td>\n",
       "      <td>NaN</td>\n",
       "      <td>NaN</td>\n",
       "      <td>NaN</td>\n",
       "      <td>NaN</td>\n",
       "    </tr>\n",
       "    <tr>\n",
       "      <th>2020-07</th>\n",
       "      <td>45502.0</td>\n",
       "      <td>4735.0</td>\n",
       "      <td>1563.0</td>\n",
       "      <td>NaN</td>\n",
       "      <td>NaN</td>\n",
       "      <td>NaN</td>\n",
       "      <td>NaN</td>\n",
       "      <td>NaN</td>\n",
       "      <td>NaN</td>\n",
       "      <td>NaN</td>\n",
       "      <td>NaN</td>\n",
       "      <td>NaN</td>\n",
       "    </tr>\n",
       "    <tr>\n",
       "      <th>2020-08</th>\n",
       "      <td>47882.0</td>\n",
       "      <td>3337.0</td>\n",
       "      <td>NaN</td>\n",
       "      <td>NaN</td>\n",
       "      <td>NaN</td>\n",
       "      <td>NaN</td>\n",
       "      <td>NaN</td>\n",
       "      <td>NaN</td>\n",
       "      <td>NaN</td>\n",
       "      <td>NaN</td>\n",
       "      <td>NaN</td>\n",
       "      <td>NaN</td>\n",
       "    </tr>\n",
       "    <tr>\n",
       "      <th>2020-09</th>\n",
       "      <td>36540.0</td>\n",
       "      <td>NaN</td>\n",
       "      <td>NaN</td>\n",
       "      <td>NaN</td>\n",
       "      <td>NaN</td>\n",
       "      <td>NaN</td>\n",
       "      <td>NaN</td>\n",
       "      <td>NaN</td>\n",
       "      <td>NaN</td>\n",
       "      <td>NaN</td>\n",
       "      <td>NaN</td>\n",
       "      <td>NaN</td>\n",
       "    </tr>\n",
       "  </tbody>\n",
       "</table>\n",
       "</div>"
      ],
      "text/plain": [
       "month_ingame       1       2       3       4       5       6       7       8   \\\n",
       "reg_ts_month                                                                    \n",
       "2019-09       26689.0  2757.0  1364.0  1364.0  1364.0  1364.0  1364.0  1364.0   \n",
       "2019-10       28998.0  2989.0  1475.0  1475.0  1475.0  1475.0  1475.0  1475.0   \n",
       "2019-11       29505.0  3034.0  1433.0  1433.0  1433.0  1433.0  1433.0  1433.0   \n",
       "2019-12       32057.0  3370.0  1640.0  1640.0  1640.0  1640.0  1640.0  1640.0   \n",
       "2020-01       33733.0  3402.0  1689.0  1689.0  1689.0  1689.0  1689.0  1689.0   \n",
       "2020-02       33152.0  3350.0  1630.0  1630.0  1630.0  1630.0  1630.0  1121.0   \n",
       "2020-03       37231.0  3843.0  1907.0  1907.0  1907.0  1907.0  1335.0     NaN   \n",
       "2020-04       37884.0  3958.0  1937.0  1937.0  1937.0  1353.0     NaN     NaN   \n",
       "2020-05       41159.0  4357.0  2111.0  2111.0  1481.0     NaN     NaN     NaN   \n",
       "2020-06       41880.0  4304.0  2056.0  1381.0     NaN     NaN     NaN     NaN   \n",
       "2020-07       45502.0  4735.0  1563.0     NaN     NaN     NaN     NaN     NaN   \n",
       "2020-08       47882.0  3337.0     NaN     NaN     NaN     NaN     NaN     NaN   \n",
       "2020-09       36540.0     NaN     NaN     NaN     NaN     NaN     NaN     NaN   \n",
       "\n",
       "month_ingame      9       10      11      12  \n",
       "reg_ts_month                                  \n",
       "2019-09       1364.0  1364.0  1364.0  1364.0  \n",
       "2019-10       1475.0  1475.0  1475.0   974.0  \n",
       "2019-11       1433.0  1433.0  1010.0     NaN  \n",
       "2019-12       1640.0  1115.0     NaN     NaN  \n",
       "2020-01       1133.0     NaN     NaN     NaN  \n",
       "2020-02          NaN     NaN     NaN     NaN  \n",
       "2020-03          NaN     NaN     NaN     NaN  \n",
       "2020-04          NaN     NaN     NaN     NaN  \n",
       "2020-05          NaN     NaN     NaN     NaN  \n",
       "2020-06          NaN     NaN     NaN     NaN  \n",
       "2020-07          NaN     NaN     NaN     NaN  \n",
       "2020-08          NaN     NaN     NaN     NaN  \n",
       "2020-09          NaN     NaN     NaN     NaN  "
      ]
     },
     "execution_count": 45,
     "metadata": {},
     "output_type": "execute_result"
    },
    {
     "data": {
      "image/png": "[encoded data removed]",
      "text/plain": [
       "<Figure size 1296x864 with 2 Axes>"
      ]
     },
     "metadata": {
      "needs_background": "light"
     },
     "output_type": "display_data"
    }
   ],
   "source": [
    "# даже с учетом преобразования в месяца, когорты будут слишком большие. принимаю решение ограничить данные.\n",
    "retention_month(df, '2019-09-01', '2020-09-23')"
   ]
  },
  {
   "cell_type": "markdown",
   "metadata": {},
   "source": [
    "## Вывод:\n",
    "***на картинке предоставлен ретеншин в течение года. Какие-то когортв остаются в размере 5% от поступивших в начале,  \n",
    "ближе к концу данных, ретеншен снижается. полагаю данные сгенерированы***\n"
   ]
  },
  {
   "cell_type": "markdown",
   "metadata": {},
   "source": [
    "Помимо этого, в компании провели A/B тестирование наборов акционных предложений. На основе имеющихся данных определите, какой набор можно считать лучшим и на основе каких метрик стоит принять правильное решение."
   ]
  },
  {
   "cell_type": "markdown",
   "metadata": {},
   "source": [
    "## Задание 2\n",
    "***Имеются результаты A/B теста, в котором двум группам пользователей предлагались различные наборы акционных предложений. Известно, что ARPU в тестовой группе выше на 5%, чем в контрольной. При этом в контрольной группе 1928 игроков из 202103 оказались платящими, а в тестовой – 1805 из 202667.***\n",
    "\n",
    "***Какой набор предложений можно считать лучшим? Какие метрики стоит проанализировать для принятия правильного решения и как?***"
   ]
  },
  {
   "cell_type": "code",
   "execution_count": 46,
   "metadata": {},
   "outputs": [],
   "source": [
    "df_ab = pd.read_csv('/home/jupyter-d.podakova-15/shared/problem2.csv', sep=';')"
   ]
  },
  {
   "cell_type": "code",
   "execution_count": 47,
   "metadata": {},
   "outputs": [
    {
     "data": {
      "text/html": [
       "<div>\n",
       "<style scoped>\n",
       "    .dataframe tbody tr th:only-of-type {\n",
       "        vertical-align: middle;\n",
       "    }\n",
       "\n",
       "    .dataframe tbody tr th {\n",
       "        vertical-align: top;\n",
       "    }\n",
       "\n",
       "    .dataframe thead th {\n",
       "        text-align: right;\n",
       "    }\n",
       "</style>\n",
       "<table border=\"1\" class=\"dataframe\">\n",
       "  <thead>\n",
       "    <tr style=\"text-align: right;\">\n",
       "      <th></th>\n",
       "      <th>user_id</th>\n",
       "      <th>revenue</th>\n",
       "      <th>testgroup</th>\n",
       "    </tr>\n",
       "  </thead>\n",
       "  <tbody>\n",
       "    <tr>\n",
       "      <th>0</th>\n",
       "      <td>1</td>\n",
       "      <td>0</td>\n",
       "      <td>b</td>\n",
       "    </tr>\n",
       "    <tr>\n",
       "      <th>1</th>\n",
       "      <td>2</td>\n",
       "      <td>0</td>\n",
       "      <td>a</td>\n",
       "    </tr>\n",
       "    <tr>\n",
       "      <th>2</th>\n",
       "      <td>3</td>\n",
       "      <td>0</td>\n",
       "      <td>a</td>\n",
       "    </tr>\n",
       "    <tr>\n",
       "      <th>3</th>\n",
       "      <td>4</td>\n",
       "      <td>0</td>\n",
       "      <td>b</td>\n",
       "    </tr>\n",
       "    <tr>\n",
       "      <th>4</th>\n",
       "      <td>5</td>\n",
       "      <td>0</td>\n",
       "      <td>b</td>\n",
       "    </tr>\n",
       "  </tbody>\n",
       "</table>\n",
       "</div>"
      ],
      "text/plain": [
       "   user_id  revenue testgroup\n",
       "0        1        0         b\n",
       "1        2        0         a\n",
       "2        3        0         a\n",
       "3        4        0         b\n",
       "4        5        0         b"
      ]
     },
     "execution_count": 47,
     "metadata": {},
     "output_type": "execute_result"
    }
   ],
   "source": [
    "df_ab.head()"
   ]
  },
  {
   "cell_type": "code",
   "execution_count": 48,
   "metadata": {},
   "outputs": [
    {
     "name": "stdout",
     "output_type": "stream",
     "text": [
      "Строк: 404770,колонок: 3\n",
      "\n",
      " ------------------------------------------------------------------------------------------ \n",
      "\n",
      "Типы колонок \n",
      "\n",
      " user_id       int64\n",
      "revenue       int64\n",
      "testgroup    object\n",
      "dtype: object\n",
      "\n",
      " ------------------------------------------------------------------------------------------ \n",
      "\n",
      "Описание данных \n",
      "\n",
      "          user_id    revenue\n",
      "count  404770.00  404770.00\n",
      "mean   202385.50      26.08\n",
      "std    116847.18     681.65\n",
      "min         1.00       0.00\n",
      "25%    101193.25       0.00\n",
      "50%    202385.50       0.00\n",
      "75%    303577.75       0.00\n",
      "max    404770.00   37433.00\n",
      "\n",
      " ------------------------------------------------------------------------------------------ \n",
      "\n",
      "Проверка на пропуски \n",
      "\n",
      " user_id      0\n",
      "revenue      0\n",
      "testgroup    0\n",
      "dtype: int64\n",
      "\n",
      " ------------------------------------------------------------------------------------------ \n",
      "\n"
     ]
    }
   ],
   "source": [
    "# описываю данные, пропусков нет\n",
    "describing(df_ab)"
   ]
  },
  {
   "cell_type": "code",
   "execution_count": 49,
   "metadata": {},
   "outputs": [],
   "source": [
    "# сначала вычислю общие характеристики\n",
    "all = df_ab.groupby(['testgroup'], as_index=False)\\\n",
    "    .agg(users=('user_id', 'nunique'),\n",
    "         mean=('revenue', 'mean'),\n",
    "         revenue=('revenue', 'sum'),\n",
    "         std_all=('revenue', 'std'))"
   ]
  },
  {
   "cell_type": "code",
   "execution_count": 50,
   "metadata": {},
   "outputs": [],
   "source": [
    "# характеристики платящих\n",
    "paying_user = df_ab.query('revenue>0').groupby(['testgroup'], as_index=False)\\\n",
    "    .agg(paying_u=('user_id', 'nunique'),\n",
    "         pay_mean=('revenue', 'mean'),\n",
    "         std_paying=('revenue', 'std'),\n",
    "         pay_max_check=('revenue', 'max'),\n",
    "         pay_min_check=('revenue', 'min'))"
   ]
  },
  {
   "cell_type": "code",
   "execution_count": 51,
   "metadata": {},
   "outputs": [],
   "source": [
    "# объелиняю это в одну табличку, которая подтверрждает цифры из описания задачи\n",
    "table = paying_user.merge(all)"
   ]
  },
  {
   "cell_type": "code",
   "execution_count": 52,
   "metadata": {},
   "outputs": [
    {
     "data": {
      "text/html": [
       "<div>\n",
       "<style scoped>\n",
       "    .dataframe tbody tr th:only-of-type {\n",
       "        vertical-align: middle;\n",
       "    }\n",
       "\n",
       "    .dataframe tbody tr th {\n",
       "        vertical-align: top;\n",
       "    }\n",
       "\n",
       "    .dataframe thead th {\n",
       "        text-align: right;\n",
       "    }\n",
       "</style>\n",
       "<table border=\"1\" class=\"dataframe\">\n",
       "  <thead>\n",
       "    <tr style=\"text-align: right;\">\n",
       "      <th></th>\n",
       "      <th>testgroup</th>\n",
       "      <th>paying_u</th>\n",
       "      <th>pay_mean</th>\n",
       "      <th>std_paying</th>\n",
       "      <th>pay_max_check</th>\n",
       "      <th>pay_min_check</th>\n",
       "      <th>users</th>\n",
       "      <th>mean</th>\n",
       "      <th>revenue</th>\n",
       "      <th>std_all</th>\n",
       "      <th>ARPU</th>\n",
       "      <th>ARPPU</th>\n",
       "      <th>paying_share</th>\n",
       "    </tr>\n",
       "  </thead>\n",
       "  <tbody>\n",
       "    <tr>\n",
       "      <th>0</th>\n",
       "      <td>a</td>\n",
       "      <td>1928</td>\n",
       "      <td>2663.998444</td>\n",
       "      <td>9049.039763</td>\n",
       "      <td>37433</td>\n",
       "      <td>200</td>\n",
       "      <td>202103</td>\n",
       "      <td>25.413720</td>\n",
       "      <td>5136189</td>\n",
       "      <td>920.768137</td>\n",
       "      <td>25.0</td>\n",
       "      <td>2664.0</td>\n",
       "      <td>0.95</td>\n",
       "    </tr>\n",
       "    <tr>\n",
       "      <th>1</th>\n",
       "      <td>b</td>\n",
       "      <td>1805</td>\n",
       "      <td>3003.658172</td>\n",
       "      <td>572.619709</td>\n",
       "      <td>4000</td>\n",
       "      <td>2000</td>\n",
       "      <td>202667</td>\n",
       "      <td>26.751287</td>\n",
       "      <td>5421603</td>\n",
       "      <td>287.324162</td>\n",
       "      <td>27.0</td>\n",
       "      <td>3004.0</td>\n",
       "      <td>0.89</td>\n",
       "    </tr>\n",
       "  </tbody>\n",
       "</table>\n",
       "</div>"
      ],
      "text/plain": [
       "  testgroup  paying_u     pay_mean   std_paying  pay_max_check  pay_min_check  \\\n",
       "0         a      1928  2663.998444  9049.039763          37433            200   \n",
       "1         b      1805  3003.658172   572.619709           4000           2000   \n",
       "\n",
       "    users       mean  revenue     std_all  ARPU   ARPPU  paying_share  \n",
       "0  202103  25.413720  5136189  920.768137  25.0  2664.0          0.95  \n",
       "1  202667  26.751287  5421603  287.324162  27.0  3004.0          0.89  "
      ]
     },
     "execution_count": 52,
     "metadata": {},
     "output_type": "execute_result"
    }
   ],
   "source": [
    "table = table.assign(ARPU=(table.revenue / table.users).round(),\n",
    "                     ARPPU=(table.revenue / table.paying_u).round(),\n",
    "                     paying_share=(table.paying_u / table.users).mul(100).round(2))\n",
    "table"
   ]
  },
  {
   "cell_type": "markdown",
   "metadata": {},
   "source": [
    "Мы видим многообещающие данные по b группе  **ARPU( средняя выручка на пользователя)** 27 единиц валюты против 25 группы a,\n",
    "и  3004  против  2664 в **ARPPU (средняя выручка на платящего пользователя)**, \n",
    "правда, настораживает меньшая **доля платящих** 0.89%  против 0.95% группы а, \n",
    "**стандартное отклонение** группы b  ближе к 0, значит обладает меньшей вариабельностью данных (287.3 против 920.7  среди всех пользователей, 572.6  против 9049.0  среди платящих пользователей). \n",
    "Скорее всего, среди группы А – затесались покупатели-«киты», сильно влияющие величиной своего чека. \n",
    "Для проверки этого предположения были добавлены **показатели минимального и максимального чека**. Да, у группы a очень интересный скачок до 37433 валюты, в то время как группа b более стабильна в своих чеках как в минимальном так и максимальном сегменте."
   ]
  },
  {
   "cell_type": "code",
   "execution_count": 53,
   "metadata": {},
   "outputs": [
    {
     "name": "stderr",
     "output_type": "stream",
     "text": [
      "/opt/tljh/user/lib/python3.7/site-packages/ipykernel_launcher.py:5: UserWarning: Pandas doesn't allow columns to be created via a new attribute name - see https://pandas.pydata.org/pandas-docs/stable/indexing.html#attribute-access\n",
      "  \"\"\"\n"
     ]
    },
    {
     "data": {
      "text/html": [
       "<div>\n",
       "<style scoped>\n",
       "    .dataframe tbody tr th:only-of-type {\n",
       "        vertical-align: middle;\n",
       "    }\n",
       "\n",
       "    .dataframe tbody tr th {\n",
       "        vertical-align: top;\n",
       "    }\n",
       "\n",
       "    .dataframe thead th {\n",
       "        text-align: right;\n",
       "    }\n",
       "</style>\n",
       "<table border=\"1\" class=\"dataframe\">\n",
       "  <thead>\n",
       "    <tr style=\"text-align: right;\">\n",
       "      <th></th>\n",
       "      <th>testgroup</th>\n",
       "      <th>paying_u</th>\n",
       "      <th>pay_mean</th>\n",
       "      <th>std_paying</th>\n",
       "      <th>pay_max_check</th>\n",
       "      <th>pay_min_check</th>\n",
       "      <th>users</th>\n",
       "      <th>mean</th>\n",
       "      <th>revenue</th>\n",
       "      <th>std_all</th>\n",
       "      <th>ARPU</th>\n",
       "      <th>ARPPU</th>\n",
       "      <th>paying_share</th>\n",
       "    </tr>\n",
       "  </thead>\n",
       "  <tbody>\n",
       "    <tr>\n",
       "      <th>0</th>\n",
       "      <td>a</td>\n",
       "      <td>1928</td>\n",
       "      <td>2663.998444</td>\n",
       "      <td>9049.039763</td>\n",
       "      <td>37433</td>\n",
       "      <td>200</td>\n",
       "      <td>202103</td>\n",
       "      <td>25.413720</td>\n",
       "      <td>5136189</td>\n",
       "      <td>920.768137</td>\n",
       "      <td>25.0</td>\n",
       "      <td>2664.0</td>\n",
       "      <td>0.95</td>\n",
       "    </tr>\n",
       "    <tr>\n",
       "      <th>1</th>\n",
       "      <td>b</td>\n",
       "      <td>1805</td>\n",
       "      <td>3003.658172</td>\n",
       "      <td>572.619709</td>\n",
       "      <td>4000</td>\n",
       "      <td>2000</td>\n",
       "      <td>202667</td>\n",
       "      <td>26.751287</td>\n",
       "      <td>5421603</td>\n",
       "      <td>287.324162</td>\n",
       "      <td>27.0</td>\n",
       "      <td>3004.0</td>\n",
       "      <td>0.89</td>\n",
       "    </tr>\n",
       "  </tbody>\n",
       "</table>\n",
       "</div>"
      ],
      "text/plain": [
       "  testgroup  paying_u     pay_mean   std_paying  pay_max_check  pay_min_check  \\\n",
       "0         a      1928  2663.998444  9049.039763          37433            200   \n",
       "1         b      1805  3003.658172   572.619709           4000           2000   \n",
       "\n",
       "    users       mean  revenue     std_all  ARPU   ARPPU  paying_share  \n",
       "0  202103  25.413720  5136189  920.768137  25.0  2664.0          0.95  \n",
       "1  202667  26.751287  5421603  287.324162  27.0  3004.0          0.89  "
      ]
     },
     "execution_count": 53,
     "metadata": {},
     "output_type": "execute_result"
    }
   ],
   "source": [
    "# отберем данные для построения графика и экспериментов\n",
    "df_ab_payments = df_ab.query('revenue > 0').table = table.assign(ARPU=(table.revenue / table.users).round(),\n",
    "                                                                 ARPPU=(table.revenue / table.paying_u).round(),\n",
    "                                                                 paying_share=(table.paying_u / table.users)\n",
    "                                                                 .mul(100).round(2))\n",
    "table"
   ]
  },
  {
   "cell_type": "markdown",
   "metadata": {},
   "source": [
    "# теория о вариабельности данных в группе а подтверждается. Выброс сильно повлиял на итоги теста\n"
   ]
  },
  {
   "cell_type": "code",
   "execution_count": 64,
   "metadata": {},
   "outputs": [
    {
     "data": {
      "text/plain": [
       "<matplotlib.axes._subplots.AxesSubplot at 0x7f3414773668>"
      ]
     },
     "execution_count": 64,
     "metadata": {},
     "output_type": "execute_result"
    },
    {
     "data": {
      "image/png": "[encoded data removed]",
      "text/plain": [
       "<Figure size 1152x864 with 1 Axes>"
      ]
     },
     "metadata": {
      "needs_background": "light"
     },
     "output_type": "display_data"
    }
   ],
   "source": [
    "# отберем данные для построения графика и экспериментов\n",
    "# теория о вариабельности данных в группе а подтверждается. Выброс сильно повлиял на итоги теста\n",
    "df_ab_payments = df_ab.query('revenue>0')\n",
    "plt.figure(figsize=(16, 12))\n",
    "plt.title('Boxplot платящих пользователей по группам эксперимента')\n",
    "sns.boxplot(y=\"revenue\", x='testgroup', data=df_ab_payments, palette=\"Set1\", order=[\"a\", \"b\"])"
   ]
  },
  {
   "cell_type": "markdown",
   "metadata": {},
   "source": [
    "**перед выбором метода сравнения групп, попробуем проверить распределение данных, \n",
    "нормальное оно или нет, хотя боксплот дал подсказку,что нет**"
   ]
  },
  {
   "cell_type": "code",
   "execution_count": 55,
   "metadata": {},
   "outputs": [],
   "source": [
    "control_results = df_ab[df_ab['testgroup'] == 'a']['revenue']\n",
    "test_results = df_ab[df_ab['testgroup'] == 'b']['revenue']"
   ]
  },
  {
   "cell_type": "code",
   "execution_count": 56,
   "metadata": {},
   "outputs": [],
   "source": [
    "def ks_test(sample, n='norm'):\n",
    "    \"\"\"Тест Колмогорова-Смирнова\"\"\"\n",
    "    sample_ks_test = stats.kstest(sample, n)\n",
    "    p_value = round(sample_ks_test[1], 3)\n",
    "    if p_value > 0.05:\n",
    "        return f'p-value={p_value} > 0.05 (нор. рас.) - тест К-С'\n",
    "    return f'p-value={p_value} < 0.05 (НЕ нор. рас.) - тест К-С'\n",
    "\n",
    "\n",
    "def shapiro_test(sample, n='norm'):\n",
    "    \"\"\"Тест Шапиро-Уилко\"\"\"\n",
    "    sample_shapiro_test = stats.shapiro(sample)\n",
    "    p_value = round(sample_shapiro_test[1], 3)\n",
    "    if p_value > 0.05:\n",
    "        return f'p-value = {p_value} > 0.05 (нор. рас.) - тест Ш-У'\n",
    "    return f'p-value = {p_value} < 0.05 (НЕ нор. рас.) - тест Ш-У'"
   ]
  },
  {
   "cell_type": "code",
   "execution_count": 57,
   "metadata": {},
   "outputs": [
    {
     "name": "stdout",
     "output_type": "stream",
     "text": [
      "p-value=0.0 < 0.05 (НЕ нор. рас.) - тест К-С - a группа\n",
      "p-value = 0.0 < 0.05 (НЕ нор. рас.) - тест Ш-У - a группа\n",
      "\n",
      "p-value=0.0 < 0.05 (НЕ нор. рас.) - тест К-С - b группа\n",
      "p-value = 0.0 < 0.05 (НЕ нор. рас.) - тест Ш-У - b группа\n"
     ]
    },
    {
     "name": "stderr",
     "output_type": "stream",
     "text": [
      "/opt/tljh/user/lib/python3.7/site-packages/scipy/stats/morestats.py:1760: UserWarning: p-value may not be accurate for N > 5000.\n",
      "  warnings.warn(\"p-value may not be accurate for N > 5000.\")\n"
     ]
    }
   ],
   "source": [
    "print(f'{ks_test(control_results)} - a группа')\n",
    "print(f'{shapiro_test(control_results)} - a группа')\n",
    "print()\n",
    "print(f'{ks_test(test_results)} - b группа')\n",
    "print(f'{shapiro_test(test_results)} - b группа')"
   ]
  },
  {
   "cell_type": "markdown",
   "metadata": {},
   "source": [
    "***В выполненных тестах все значения p-value < 0.05, т.е. выборки распределены не нормально.Пришло время статистического анализа ab теста. Распределение не нормальное, есть большие выбросы - берем непараметрический критерий Манна-Уитни.  Нулевая гипотеза в том,что наборы акционных предложений ничем не отличаются***"
   ]
  },
  {
   "cell_type": "code",
   "execution_count": 58,
   "metadata": {},
   "outputs": [],
   "source": [
    "mw_test = stats.mannwhitneyu(control_results, test_results)"
   ]
  },
  {
   "cell_type": "code",
   "execution_count": 59,
   "metadata": {},
   "outputs": [
    {
     "name": "stdout",
     "output_type": "stream",
     "text": [
      "Манн-Уитни p-value=0.063 > 0.05 - стат. зн. раз. не обнаружено.\n"
     ]
    }
   ],
   "source": [
    "if mw_test[1] > 0.05:\n",
    "    print(f'Манн-Уитни p-value={round(mw_test[1], 3)} > 0.05 - стат. зн. раз. не обнаружено.')\n",
    "else:\n",
    "    print(f'Манн-Уитни: p={round(mw_test[1], 3)} < 0.05 - выборки различаются статистически значимо.')"
   ]
  },
  {
   "cell_type": "markdown",
   "metadata": {},
   "source": [
    "**нам будет дан такой ответ, если мы возьмем изначальный датафрейм с множеством неплатящих игроков.Этим примером показано различие в выводах,если выбран неправильный набор данных для анализа.В нашем случае 0 дали слишком большой \"шум\".  Возьмем  только платящих** "
   ]
  },
  {
   "cell_type": "markdown",
   "metadata": {},
   "source": [
    "### Вывод: да, набор b статистически различается от набора a  в лучшую сторону. Выбираем для своей игры этот набор "
   ]
  },
  {
   "cell_type": "markdown",
   "metadata": {},
   "source": [
    "Предложите метрики для оценки результатов последнего прошедшего тематического события в игре."
   ]
  },
  {
   "cell_type": "markdown",
   "metadata": {},
   "source": [
    "## Задание 3\n",
    "***В игре Plants & Gardens каждый месяц проводятся тематические события, ограниченные по времени. В них игроки могут получить уникальные предметы для сада и персонажей, дополнительные монеты или бонусы. Для получения награды требуется пройти ряд уровней за определенное время. С помощью каких метрик можно оценить результаты последнего прошедшего события?***"
   ]
  },
  {
   "cell_type": "markdown",
   "metadata": {},
   "source": [
    "Судя по названию, данная игра относится к типу \"ферма\". В таких играх важны социальные метрики (игроки хвастаются более совершенной условной \"фермой\", либо главная фича в игре - это обмен ресурсами). Мы должны учитывать это. К тому же в таких  экспериментах мы имеем в голове четкое представление, на какую категорию  игроков все же направлен ивент. Здесь я делаю предположение, что на все категории:\n",
    "- Киты (самые крупно платящие  игроки)\n",
    "- Дельфины (средние)\n",
    "- Мальки (с маленьким чеком)\n",
    "- есть еще бесплатно играющие, самая большая категория, зато благодаря ей игра продвигается, и они могут стать платящими.  \n",
    "(  внизу картинка по распределениям доли платящих  категорий в основных жанрах мобильных игр).\n",
    "Фермы относятся к классификации Casual (простые механики, низкий порог вхождения), полагаю, они уже относятся к отдельному жанру,но для понимания картинки сделаем допущение что это либо Simulation либо Puzzle.\n",
    "А также нужно учитывать направлена  ли акция на ***новых игроков*** и их более быстрого адаптирования в игре или простимулировать ***«старичков»***"
   ]
  },
  {
   "attachments": {
    "9ade324bfbba03.jpg": {
     "image/jpeg": "[encoded data removed]"
    }
   },
   "cell_type": "markdown",
   "metadata": {},
   "source": [
    " ![9ade324bfbba03.jpg](attachment:9ade324bfbba03.jpg)\n",
    " "
   ]
  },
  {
   "cell_type": "markdown",
   "metadata": {},
   "source": [
    "-**Retention n-дня** с момента проведения события. Покажет, насколько полученные бонусы мотивировали игроков остаться в игре.  \n",
    "-**Количество покупок в магазине игры за настоящие деньги**: оно обычно падает на некоторый период времени после акции, \n",
    "потому что обычно в таких играх обязательно будут участовать хардкорные игроки, которые и без акции бы покупали в магазине.  \n",
    "-**ARPU**- сильно просядет так как будет больше пользователей, на число которых нужно делить доход.  \n",
    "-**ARPPU** - аналогично, часть бывших платящих на некоторое время будут пользоваться бонусами.  \n",
    "-**DAU** - дневная аудитория всех дней, в которые проводится акция. Полагаю, что за ней нужно следить еще и с технической точки зрения: вдруг нагрузка от привлеченных пользователей будет слишком высока и сервера упадут.  \n",
    "-**Paying Users (paying share)** - абсолютная величина и % доля платящих игроков. Цель в  том,чтобы увеличить ее. Например, из-за акции более скилловые игроки увеличили свои ресурсы и  остальные увидели классные предметы в игре и захотели такие же.   \n",
    "-**Количество пользователей, участвующих в событии**  \n",
    "-**Количество пройденных бонусных уровней**  \n",
    "-**Конверсии в платящих**  \n",
    "-**Время проведенное в аппе либо количество заходов**  \n",
    "-**К-фактор, то есть виральность** вспомнили ли редкозаходящие пользователи о нашей игре и привлеклись ли новые игроки  "
   ]
  },
  {
   "cell_type": "markdown",
   "metadata": {},
   "source": [
    "***Предположим, в другом событии мы усложнили механику событий так, что при каждой неудачной попытке выполнения уровня игрок   будет откатываться на несколько уровней назад. Изменится ли набор метрик оценки результата? Если да, то как?***"
   ]
  },
  {
   "cell_type": "markdown",
   "metadata": {},
   "source": [
    "Вспоминаем, что это жанр -  ферма, класс- Casual. Подобное нововведение психологически нетипичное для основной аудитории этого жанра, но даже среди них могут быть авантюристы и киллеры (психологические подтипы)     \n",
    "Первый шаг – это провести в первую очередь ab-тест, насчет того, целесообразно ли такое событие.  \n",
    "К метрикам добавятся:   \n",
    "-**Количество попыток пройти уровни**  \n",
    "-**Временные метрики прохождения уровней**  \n",
    "-**Ранги сложности бонусных уровней** на каком игроки «падают» назад в уровнях, чтобы определить  с какого начинаются сложности"
   ]
  }
 ],
 "metadata": {
  "kernelspec": {
   "display_name": "Python 3",
   "language": "python",
   "name": "python3"
  },
  "language_info": {
   "codemirror_mode": {
    "name": "ipython",
    "version": 3
   },
   "file_extension": ".py",
   "mimetype": "text/x-python",
   "name": "python",
   "nbconvert_exporter": "python",
   "pygments_lexer": "ipython3",
   "version": "3.7.3"
  }
 },
 "nbformat": 4,
 "nbformat_minor": 4
}