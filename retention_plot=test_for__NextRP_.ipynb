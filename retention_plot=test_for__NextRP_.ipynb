{
  "nbformat": 4,
  "nbformat_minor": 0,
  "metadata": {
    "colab": {
      "name": "retention_plot=test_for_ NextRP .ipynb",
      "provenance": [],
      "collapsed_sections": [],
      "authorship_tag": "ABX9TyP05CTg79brqaLrxfZZxkiN",
      "include_colab_link": true
    },
    "kernelspec": {
      "name": "python3",
      "display_name": "Python 3"
    },
    "language_info": {
      "name": "python"
    }
  },
  "cells": [
    {
      "cell_type": "markdown",
      "metadata": {
        "id": "view-in-github",
        "colab_type": "text"
      },
      "source": [
        "<a href=\"https://colab.research.google.com/github/DaryaPodakova/DaryaPodakova/blob/main/retention_plot%3Dtest_for__NextRP_.ipynb\" target=\"_parent\"><img src=\"https://colab.research.google.com/assets/colab-badge.svg\" alt=\"Open In Colab\"/></a>"
      ]
    },
    {
      "cell_type": "code",
      "metadata": {
        "id": "oDBAnhQiFfpg",
        "colab": {
          "base_uri": "https://localhost:8080/"
        },
        "outputId": "df7728df-8738-48dd-b5c9-f2185e37b2e2"
      },
      "source": [
        "import pandas as pd\n",
        "from google.colab import drive\n",
        "drive.mount('/content/drive')\n",
        "import pandas as pd\n",
        "import numpy as np\n",
        "import matplotlib.pyplot as plt"
      ],
      "execution_count": 14,
      "outputs": [
        {
          "output_type": "stream",
          "name": "stdout",
          "text": [
            "Drive already mounted at /content/drive; to attempt to forcibly remount, call drive.mount(\"/content/drive\", force_remount=True).\n"
          ]
        }
      ]
    },
    {
      "cell_type": "markdown",
      "metadata": {
        "id": "uaA3YDgbggKq"
      },
      "source": [
        " по внешним ссылкам - парсилось в HTML-формате,\n",
        " поэтому для быстроты решения скопировала ярлыки файлов к себе в директорию.\n",
        "#  "
      ]
    },
    {
      "cell_type": "code",
      "metadata": {
        "id": "GG3TroHq2kN0"
      },
      "source": [
        "installs=pd.read_csv('/content/drive/MyDrive/портфолио/NXRP/installs.csv',sep=',', \n",
        "                     header=None,names=['client_id', 'install_timestamp'],parse_dates=['install_timestamp'])\n",
        "logins=pd.read_csv('/content/drive/MyDrive/портфолио/NXRP/logins.csv',sep=',',\n",
        "                   header=None,names=['client_id', 'event_timestamp'],parse_dates=['event_timestamp'])"
      ],
      "execution_count": 15,
      "outputs": []
    },
    {
      "cell_type": "code",
      "metadata": {
        "id": "SNlXm_nfgvDo"
      },
      "source": [
        "# создаю функцию для полной проверки данных\n",
        "def describing(x):\n",
        "    divider = \"---\"\n",
        "    \n",
        "    print(\"Строк: {},колонок: {}\".format(x.shape[0],x.shape[1])) \n",
        "    print(\"\\n {} \\n\".format((divider*30)))\n",
        "    print(\"Типы колонок \\n\\n\", (x.dtypes))\n",
        "    print(\"\\n {} \\n\".format((divider*30)))\n",
        "    print(\"Описание данных \\n\\n\", x.describe().round(2))\n",
        "    print(\"\\n {} \\n\".format((divider*30)))\n",
        "    print(\"Проверка на пропуски \\n\\n\",x.isna().sum())\n",
        "    print(\"\\n {} \\n\".format((divider*30)))\n",
        "    return"
      ],
      "execution_count": 16,
      "outputs": []
    },
    {
      "cell_type": "code",
      "metadata": {
        "colab": {
          "base_uri": "https://localhost:8080/"
        },
        "id": "bzRBBu8Sk0bW",
        "outputId": "3279da49-544f-4f57-9ba0-2e67f889eea0"
      },
      "source": [
        "#  описываем данные, видим, что пропусков нет,дата нормально распозналась\n",
        "#  и можно передать данные в столбик \"даты\" без времени\n",
        "describing(installs)"
      ],
      "execution_count": 17,
      "outputs": [
        {
          "output_type": "stream",
          "name": "stdout",
          "text": [
            "Строк: 2659,колонок: 2\n",
            "\n",
            " ------------------------------------------------------------------------------------------ \n",
            "\n",
            "Типы колонок \n",
            "\n",
            " client_id                    object\n",
            "install_timestamp    datetime64[ns]\n",
            "dtype: object\n",
            "\n",
            " ------------------------------------------------------------------------------------------ \n",
            "\n",
            "Описание данных \n",
            "\n",
            "                                    client_id    install_timestamp\n",
            "count                                   2659                 2659\n",
            "unique                                  2659                 2642\n",
            "top     d31da2f8-72c3-4d30-b0c2-541ad9359162  2019-11-23 10:43:20\n",
            "freq                                       1                    2\n",
            "first                                    NaN  2019-11-19 11:18:14\n",
            "last                                     NaN  2020-08-17 19:43:42\n",
            "\n",
            " ------------------------------------------------------------------------------------------ \n",
            "\n",
            "Проверка на пропуски \n",
            "\n",
            " client_id            0\n",
            "install_timestamp    0\n",
            "dtype: int64\n",
            "\n",
            " ------------------------------------------------------------------------------------------ \n",
            "\n"
          ]
        },
        {
          "output_type": "stream",
          "name": "stderr",
          "text": [
            "/usr/local/lib/python3.7/dist-packages/ipykernel_launcher.py:9: FutureWarning: Treating datetime data as categorical rather than numeric in `.describe` is deprecated and will be removed in a future version of pandas. Specify `datetime_is_numeric=True` to silence this warning and adopt the future behavior now.\n",
            "  if __name__ == '__main__':\n"
          ]
        }
      ]
    },
    {
      "cell_type": "code",
      "metadata": {
        "colab": {
          "base_uri": "https://localhost:8080/"
        },
        "id": "mkQYYhQgmHse",
        "outputId": "a0362412-e81b-4b7b-95d3-82b5a909f03d"
      },
      "source": [
        "describing(logins)"
      ],
      "execution_count": 18,
      "outputs": [
        {
          "output_type": "stream",
          "name": "stdout",
          "text": [
            "Строк: 299540,колонок: 2\n",
            "\n",
            " ------------------------------------------------------------------------------------------ \n",
            "\n",
            "Типы колонок \n",
            "\n",
            " client_id                  object\n",
            "event_timestamp    datetime64[ns]\n",
            "dtype: object\n",
            "\n",
            " ------------------------------------------------------------------------------------------ \n",
            "\n",
            "Описание данных \n",
            "\n",
            "                                    client_id      event_timestamp\n",
            "count                                 299540               299540\n",
            "unique                                  2659               298000\n",
            "top     b83797ae-aef1-462e-9c63-cf2d2e983be8  2020-06-05 12:38:18\n",
            "freq                                    4073                    3\n",
            "first                                    NaN  2020-02-01 00:23:36\n",
            "last                                     NaN  2021-08-26 23:57:12\n",
            "\n",
            " ------------------------------------------------------------------------------------------ \n",
            "\n",
            "Проверка на пропуски \n",
            "\n",
            " client_id          0\n",
            "event_timestamp    0\n",
            "dtype: int64\n",
            "\n",
            " ------------------------------------------------------------------------------------------ \n",
            "\n"
          ]
        },
        {
          "output_type": "stream",
          "name": "stderr",
          "text": [
            "/usr/local/lib/python3.7/dist-packages/ipykernel_launcher.py:9: FutureWarning: Treating datetime data as categorical rather than numeric in `.describe` is deprecated and will be removed in a future version of pandas. Specify `datetime_is_numeric=True` to silence this warning and adopt the future behavior now.\n",
            "  if __name__ == '__main__':\n"
          ]
        }
      ]
    },
    {
      "cell_type": "code",
      "metadata": {
        "id": "qx378-vCjm9k"
      },
      "source": [
        "#добавляем колонку времени к логинам и инсталлам\n",
        "logins['data']=logins.event_timestamp.dt.date\n"
      ],
      "execution_count": 28,
      "outputs": []
    },
    {
      "cell_type": "code",
      "metadata": {
        "id": "Hy1QDpb42199"
      },
      "source": [
        "full_data=installs.merge(logins,on='client_id',how='inner')"
      ],
      "execution_count": 29,
      "outputs": []
    },
    {
      "cell_type": "code",
      "metadata": {
        "colab": {
          "base_uri": "https://localhost:8080/"
        },
        "id": "ozTOE2KP8LRQ",
        "outputId": "66900796-cd40-4b74-96e4-25ba981a7df2"
      },
      "source": [
        "full_data.dtypes"
      ],
      "execution_count": 21,
      "outputs": [
        {
          "output_type": "execute_result",
          "data": {
            "text/plain": [
              "client_id                    object\n",
              "install_timestamp    datetime64[ns]\n",
              "event_timestamp      datetime64[ns]\n",
              "data                         object\n",
              "dtype: object"
            ]
          },
          "metadata": {},
          "execution_count": 21
        }
      ]
    },
    {
      "cell_type": "code",
      "metadata": {
        "colab": {
          "base_uri": "https://localhost:8080/",
          "height": 205
        },
        "id": "vHv-OEj12f-q",
        "outputId": "9ee5d8a6-444a-4de3-c8d1-4aae03d951a5"
      },
      "source": [
        "full_data.head()"
      ],
      "execution_count": 22,
      "outputs": [
        {
          "output_type": "execute_result",
          "data": {
            "text/html": [
              "<div>\n",
              "<style scoped>\n",
              "    .dataframe tbody tr th:only-of-type {\n",
              "        vertical-align: middle;\n",
              "    }\n",
              "\n",
              "    .dataframe tbody tr th {\n",
              "        vertical-align: top;\n",
              "    }\n",
              "\n",
              "    .dataframe thead th {\n",
              "        text-align: right;\n",
              "    }\n",
              "</style>\n",
              "<table border=\"1\" class=\"dataframe\">\n",
              "  <thead>\n",
              "    <tr style=\"text-align: right;\">\n",
              "      <th></th>\n",
              "      <th>client_id</th>\n",
              "      <th>install_timestamp</th>\n",
              "      <th>event_timestamp</th>\n",
              "      <th>data</th>\n",
              "    </tr>\n",
              "  </thead>\n",
              "  <tbody>\n",
              "    <tr>\n",
              "      <th>0</th>\n",
              "      <td>f346a7e1-ce78-475e-8bd2-6801843b0755</td>\n",
              "      <td>2020-08-17 16:04:54</td>\n",
              "      <td>2020-08-17 16:17:39</td>\n",
              "      <td>2020-08-17</td>\n",
              "    </tr>\n",
              "    <tr>\n",
              "      <th>1</th>\n",
              "      <td>f346a7e1-ce78-475e-8bd2-6801843b0755</td>\n",
              "      <td>2020-08-17 16:04:54</td>\n",
              "      <td>2020-08-17 16:04:54</td>\n",
              "      <td>2020-08-17</td>\n",
              "    </tr>\n",
              "    <tr>\n",
              "      <th>2</th>\n",
              "      <td>f346a7e1-ce78-475e-8bd2-6801843b0755</td>\n",
              "      <td>2020-08-17 16:04:54</td>\n",
              "      <td>2020-08-17 16:15:25</td>\n",
              "      <td>2020-08-17</td>\n",
              "    </tr>\n",
              "    <tr>\n",
              "      <th>3</th>\n",
              "      <td>f346a7e1-ce78-475e-8bd2-6801843b0755</td>\n",
              "      <td>2020-08-17 16:04:54</td>\n",
              "      <td>2020-08-17 16:20:07</td>\n",
              "      <td>2020-08-17</td>\n",
              "    </tr>\n",
              "    <tr>\n",
              "      <th>4</th>\n",
              "      <td>390a30f3-d39b-41f3-9d1d-fc0e75567fdc</td>\n",
              "      <td>2020-08-17 16:05:19</td>\n",
              "      <td>2020-08-17 16:05:19</td>\n",
              "      <td>2020-08-17</td>\n",
              "    </tr>\n",
              "  </tbody>\n",
              "</table>\n",
              "</div>"
            ],
            "text/plain": [
              "                              client_id  ...        data\n",
              "0  f346a7e1-ce78-475e-8bd2-6801843b0755  ...  2020-08-17\n",
              "1  f346a7e1-ce78-475e-8bd2-6801843b0755  ...  2020-08-17\n",
              "2  f346a7e1-ce78-475e-8bd2-6801843b0755  ...  2020-08-17\n",
              "3  f346a7e1-ce78-475e-8bd2-6801843b0755  ...  2020-08-17\n",
              "4  390a30f3-d39b-41f3-9d1d-fc0e75567fdc  ...  2020-08-17\n",
              "\n",
              "[5 rows x 4 columns]"
            ]
          },
          "metadata": {},
          "execution_count": 22
        }
      ]
    },
    {
      "cell_type": "code",
      "metadata": {
        "id": "bU0nIvFp8oEr",
        "colab": {
          "base_uri": "https://localhost:8080/",
          "height": 422
        },
        "outputId": "fdbaf372-da96-4814-d74d-467b515feeab"
      },
      "source": [
        "# для каждого клиента ищем, когда он зашел в приложение по дням. \n",
        "#Правильнее было бы вычесть из последней даты захода в приложение -дату регистрации, \n",
        "#это будут секунды и перевести в часы, потом отсекать у кого больше 24ых. Но у меня \"мастерства\" хватило только на разницу дат\n",
        "prepare_data=full_data \\\n",
        ".groupby(['client_id','data'],as_index=False)\\\n",
        ".min() \\\n",
        ".reset_index()\\\n",
        ".rename(columns={\"event_timestamp\":\"start\"})\n",
        "prepare_data"
      ],
      "execution_count": 23,
      "outputs": [
        {
          "output_type": "execute_result",
          "data": {
            "text/html": [
              "<div>\n",
              "<style scoped>\n",
              "    .dataframe tbody tr th:only-of-type {\n",
              "        vertical-align: middle;\n",
              "    }\n",
              "\n",
              "    .dataframe tbody tr th {\n",
              "        vertical-align: top;\n",
              "    }\n",
              "\n",
              "    .dataframe thead th {\n",
              "        text-align: right;\n",
              "    }\n",
              "</style>\n",
              "<table border=\"1\" class=\"dataframe\">\n",
              "  <thead>\n",
              "    <tr style=\"text-align: right;\">\n",
              "      <th></th>\n",
              "      <th>index</th>\n",
              "      <th>client_id</th>\n",
              "      <th>data</th>\n",
              "      <th>install_timestamp</th>\n",
              "      <th>start</th>\n",
              "    </tr>\n",
              "  </thead>\n",
              "  <tbody>\n",
              "    <tr>\n",
              "      <th>0</th>\n",
              "      <td>0</td>\n",
              "      <td>00148040-841d-4250-b6fc-f20b3bb997e1</td>\n",
              "      <td>2021-08-22</td>\n",
              "      <td>2019-11-20 14:26:24</td>\n",
              "      <td>2021-08-22 03:07:44</td>\n",
              "    </tr>\n",
              "    <tr>\n",
              "      <th>1</th>\n",
              "      <td>1</td>\n",
              "      <td>00151121-ced6-4a5e-a714-29a9a338c6eb</td>\n",
              "      <td>2020-08-17</td>\n",
              "      <td>2020-08-17 16:22:33</td>\n",
              "      <td>2020-08-17 16:22:33</td>\n",
              "    </tr>\n",
              "    <tr>\n",
              "      <th>2</th>\n",
              "      <td>2</td>\n",
              "      <td>002cbdcf-fccb-47e7-a7cc-034060011387</td>\n",
              "      <td>2020-02-11</td>\n",
              "      <td>2019-11-23 15:50:26</td>\n",
              "      <td>2020-02-11 12:17:37</td>\n",
              "    </tr>\n",
              "    <tr>\n",
              "      <th>3</th>\n",
              "      <td>3</td>\n",
              "      <td>002cbdcf-fccb-47e7-a7cc-034060011387</td>\n",
              "      <td>2020-05-02</td>\n",
              "      <td>2019-11-23 15:50:26</td>\n",
              "      <td>2020-05-02 12:49:54</td>\n",
              "    </tr>\n",
              "    <tr>\n",
              "      <th>4</th>\n",
              "      <td>4</td>\n",
              "      <td>002cbdcf-fccb-47e7-a7cc-034060011387</td>\n",
              "      <td>2020-05-15</td>\n",
              "      <td>2019-11-23 15:50:26</td>\n",
              "      <td>2020-05-15 19:54:03</td>\n",
              "    </tr>\n",
              "    <tr>\n",
              "      <th>...</th>\n",
              "      <td>...</td>\n",
              "      <td>...</td>\n",
              "      <td>...</td>\n",
              "      <td>...</td>\n",
              "      <td>...</td>\n",
              "    </tr>\n",
              "    <tr>\n",
              "      <th>75604</th>\n",
              "      <td>75604</td>\n",
              "      <td>ffe7af47-6507-4040-880b-22c3db478373</td>\n",
              "      <td>2020-04-28</td>\n",
              "      <td>2019-11-23 10:37:40</td>\n",
              "      <td>2020-04-28 07:37:49</td>\n",
              "    </tr>\n",
              "    <tr>\n",
              "      <th>75605</th>\n",
              "      <td>75605</td>\n",
              "      <td>ffe7af47-6507-4040-880b-22c3db478373</td>\n",
              "      <td>2020-04-29</td>\n",
              "      <td>2019-11-23 10:37:40</td>\n",
              "      <td>2020-04-29 15:20:17</td>\n",
              "    </tr>\n",
              "    <tr>\n",
              "      <th>75606</th>\n",
              "      <td>75606</td>\n",
              "      <td>ffe7af47-6507-4040-880b-22c3db478373</td>\n",
              "      <td>2020-05-01</td>\n",
              "      <td>2019-11-23 10:37:40</td>\n",
              "      <td>2020-05-01 15:28:17</td>\n",
              "    </tr>\n",
              "    <tr>\n",
              "      <th>75607</th>\n",
              "      <td>75607</td>\n",
              "      <td>ffe7af47-6507-4040-880b-22c3db478373</td>\n",
              "      <td>2020-12-07</td>\n",
              "      <td>2019-11-23 10:37:40</td>\n",
              "      <td>2020-12-07 08:52:39</td>\n",
              "    </tr>\n",
              "    <tr>\n",
              "      <th>75608</th>\n",
              "      <td>75608</td>\n",
              "      <td>ffe7af47-6507-4040-880b-22c3db478373</td>\n",
              "      <td>2020-12-12</td>\n",
              "      <td>2019-11-23 10:37:40</td>\n",
              "      <td>2020-12-12 10:29:20</td>\n",
              "    </tr>\n",
              "  </tbody>\n",
              "</table>\n",
              "<p>75609 rows × 5 columns</p>\n",
              "</div>"
            ],
            "text/plain": [
              "       index  ...               start\n",
              "0          0  ... 2021-08-22 03:07:44\n",
              "1          1  ... 2020-08-17 16:22:33\n",
              "2          2  ... 2020-02-11 12:17:37\n",
              "3          3  ... 2020-05-02 12:49:54\n",
              "4          4  ... 2020-05-15 19:54:03\n",
              "...      ...  ...                 ...\n",
              "75604  75604  ... 2020-04-28 07:37:49\n",
              "75605  75605  ... 2020-04-29 15:20:17\n",
              "75606  75606  ... 2020-05-01 15:28:17\n",
              "75607  75607  ... 2020-12-07 08:52:39\n",
              "75608  75608  ... 2020-12-12 10:29:20\n",
              "\n",
              "[75609 rows x 5 columns]"
            ]
          },
          "metadata": {},
          "execution_count": 23
        }
      ]
    },
    {
      "cell_type": "code",
      "metadata": {
        "id": "yQ4z4Nqaji1K",
        "colab": {
          "base_uri": "https://localhost:8080/",
          "height": 205
        },
        "outputId": "e473fc51-0000-42f1-83b6-63676bdb131a"
      },
      "source": [
        "# считаем дни с начала старта активности логов и вычитаем дату регистрации\n",
        "prepare_data['days_since_start'] = (prepare_data['start'] - prepare_data['install_timestamp']).dt.days\n",
        "prepare_data.head()\n"
      ],
      "execution_count": 24,
      "outputs": [
        {
          "output_type": "execute_result",
          "data": {
            "text/html": [
              "<div>\n",
              "<style scoped>\n",
              "    .dataframe tbody tr th:only-of-type {\n",
              "        vertical-align: middle;\n",
              "    }\n",
              "\n",
              "    .dataframe tbody tr th {\n",
              "        vertical-align: top;\n",
              "    }\n",
              "\n",
              "    .dataframe thead th {\n",
              "        text-align: right;\n",
              "    }\n",
              "</style>\n",
              "<table border=\"1\" class=\"dataframe\">\n",
              "  <thead>\n",
              "    <tr style=\"text-align: right;\">\n",
              "      <th></th>\n",
              "      <th>index</th>\n",
              "      <th>client_id</th>\n",
              "      <th>data</th>\n",
              "      <th>install_timestamp</th>\n",
              "      <th>start</th>\n",
              "      <th>days_since_start</th>\n",
              "    </tr>\n",
              "  </thead>\n",
              "  <tbody>\n",
              "    <tr>\n",
              "      <th>0</th>\n",
              "      <td>0</td>\n",
              "      <td>00148040-841d-4250-b6fc-f20b3bb997e1</td>\n",
              "      <td>2021-08-22</td>\n",
              "      <td>2019-11-20 14:26:24</td>\n",
              "      <td>2021-08-22 03:07:44</td>\n",
              "      <td>640</td>\n",
              "    </tr>\n",
              "    <tr>\n",
              "      <th>1</th>\n",
              "      <td>1</td>\n",
              "      <td>00151121-ced6-4a5e-a714-29a9a338c6eb</td>\n",
              "      <td>2020-08-17</td>\n",
              "      <td>2020-08-17 16:22:33</td>\n",
              "      <td>2020-08-17 16:22:33</td>\n",
              "      <td>0</td>\n",
              "    </tr>\n",
              "    <tr>\n",
              "      <th>2</th>\n",
              "      <td>2</td>\n",
              "      <td>002cbdcf-fccb-47e7-a7cc-034060011387</td>\n",
              "      <td>2020-02-11</td>\n",
              "      <td>2019-11-23 15:50:26</td>\n",
              "      <td>2020-02-11 12:17:37</td>\n",
              "      <td>79</td>\n",
              "    </tr>\n",
              "    <tr>\n",
              "      <th>3</th>\n",
              "      <td>3</td>\n",
              "      <td>002cbdcf-fccb-47e7-a7cc-034060011387</td>\n",
              "      <td>2020-05-02</td>\n",
              "      <td>2019-11-23 15:50:26</td>\n",
              "      <td>2020-05-02 12:49:54</td>\n",
              "      <td>160</td>\n",
              "    </tr>\n",
              "    <tr>\n",
              "      <th>4</th>\n",
              "      <td>4</td>\n",
              "      <td>002cbdcf-fccb-47e7-a7cc-034060011387</td>\n",
              "      <td>2020-05-15</td>\n",
              "      <td>2019-11-23 15:50:26</td>\n",
              "      <td>2020-05-15 19:54:03</td>\n",
              "      <td>174</td>\n",
              "    </tr>\n",
              "  </tbody>\n",
              "</table>\n",
              "</div>"
            ],
            "text/plain": [
              "   index  ... days_since_start\n",
              "0      0  ...              640\n",
              "1      1  ...                0\n",
              "2      2  ...               79\n",
              "3      3  ...              160\n",
              "4      4  ...              174\n",
              "\n",
              "[5 rows x 6 columns]"
            ]
          },
          "metadata": {},
          "execution_count": 24
        }
      ]
    },
    {
      "cell_type": "code",
      "metadata": {
        "id": "z5JFbUKvu0Xb"
      },
      "source": [
        "#оставляем 7 дневный ретеншион для графика\n",
        "retention=prepare_data.query('days_since_start<7')"
      ],
      "execution_count": 25,
      "outputs": []
    },
    {
      "cell_type": "code",
      "metadata": {
        "colab": {
          "base_uri": "https://localhost:8080/"
        },
        "id": "5MC8CxFpu8uS",
        "outputId": "b1b109c2-ae95-40fc-c387-3a76c98f468c"
      },
      "source": [
        "# смотрим в ретеншион 1 дня = 28,8%\n",
        "\n",
        "retention.groupby(['days_since_start'])['client_id'].nunique() / retention['client_id'].nunique()*100\n"
      ],
      "execution_count": 26,
      "outputs": [
        {
          "output_type": "execute_result",
          "data": {
            "text/plain": [
              "days_since_start\n",
              "0    100.000000\n",
              "1     28.813559\n",
              "2     20.338983\n",
              "3     16.464891\n",
              "4     11.138015\n",
              "5     10.895884\n",
              "6      8.958838\n",
              "Name: client_id, dtype: float64"
            ]
          },
          "metadata": {},
          "execution_count": 26
        }
      ]
    },
    {
      "cell_type": "code",
      "metadata": {
        "colab": {
          "base_uri": "https://localhost:8080/",
          "height": 312
        },
        "id": "ZRmSQQ6rvkAy",
        "outputId": "8c3b7be4-7e66-4238-a847-a785458dfcc5"
      },
      "source": [
        "# визуализация\n",
        "whole_retention = retention.groupby(['days_since_start'])['client_id'].nunique() / retention['client_id'].nunique()\n",
        "\n",
        "plt.plot(whole_retention)\n",
        "plt.title(\"7-Day Daily Retention\")\n",
        "plt.xlabel(\"Days Since User First Started\")\n",
        "plt.ylabel(\"Percent Of Users Retained\")\n",
        "plt.ylim(0,1.05)\n",
        "\n"
      ],
      "execution_count": 27,
      "outputs": [
        {
          "output_type": "execute_result",
          "data": {
            "text/plain": [
              "(0.0, 1.05)"
            ]
          },
          "metadata": {},
          "execution_count": 27
        },
        {
          "output_type": "display_data",
          "data": {
            "image/png": "[encoded data removed]",
            "text/plain": [
              "<Figure size 432x288 with 1 Axes>"
            ]
          },
          "metadata": {
            "needs_background": "light"
          }
        }
      ]
    }
  ]
}